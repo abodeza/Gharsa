{
 "cells": [
  {
   "cell_type": "markdown",
   "id": "18d142ea",
   "metadata": {},
   "source": [
    "Using data for *burn, rot, and spot* classes from <a href=\"https://universe.roboflow.com/hehe-ngdal/orchid-leaf-spots-blujx\"> roboflow</a>, while *chlorosis, and powdery mildew* data from <a href=\"https://www.kaggle.com/datasets/aibuzz/apple-leaf-disease-powdery-mildew\"> Kaggle</a>. "
   ]
  },
  {
   "cell_type": "code",
   "execution_count": 31,
   "id": "2897ec81",
   "metadata": {},
   "outputs": [
    {
     "name": "stdout",
     "output_type": "stream",
     "text": [
      "-_100_jpeg.rf.2f3091f5b4dfeaca9c096eb98d450482.txt\n",
      "-_100_jpeg.rf.34152c110e8bc75e21c90b7eeaf6aa37.txt\n",
      "-_100_jpeg.rf.37083ef3b826602cbf42fafbf2ac4c73.txt\n",
      "023d6156-d789-4f46-ac5b-f764d6624f99_jpg.rf.15b750aff286f23aa9c9e8dd5b64bc48.txt\n",
      "023d6156-d789-4f46-ac5b-f764d6624f99_jpg.rf.adeeef29fbf1f8cad9222e88d75f6d1f.txt\n",
      "023d6156-d789-4f46-ac5b-f764d6624f99_jpg.rf.da4d32ccafb0b0812648e0a3110ad520.txt\n",
      "100_jpeg.rf.5a7f76eeef6a04ac0d419e4d3d65b1ec.txt\n",
      "100_jpeg.rf.60d1ba1fe865964c30aa7cd9c42cdd27.txt\n",
      "100_jpeg.rf.85a9c76be79ccce93481c1d15c65105e.txt\n",
      "101_jpg.rf.44b1ee63a37cfe04ec550c9b69df247c.txt\n"
     ]
    }
   ],
   "source": [
    "import os\n",
    "\n",
    "# Path to data for finetuning \n",
    "labels_dir = \"Dataset/train/labels\"\n",
    "imgs_dir = \"Dataset/train/images\"\n",
    "\n",
    "# View the file names of 10 first labels\n",
    "for i, fn in enumerate(os.listdir(labels_dir)):\n",
    "    if fn.endswith(\".txt\") * i<10:\n",
    "        print(fn)\n",
    "    else:\n",
    "        break"
   ]
  },
  {
   "cell_type": "code",
   "execution_count": 32,
   "id": "6128cb62",
   "metadata": {},
   "outputs": [
    {
     "name": "stdout",
     "output_type": "stream",
     "text": [
      "Number of label files: 1551\n",
      "Number of image files: 1551\n"
     ]
    }
   ],
   "source": [
    "# Load the label and image file names\n",
    "label_fns = [fn for fn in  os.listdir(labels_dir) if fn.endswith(\".txt\")]\n",
    "img_fns = [fn for fn in  os.listdir(imgs_dir) if fn.endswith(\".jpg\")]\n",
    "\n",
    "print(f\"Number of label files: { len(label_fns)}\")\n",
    "print(f\"Number of image files: { len(label_fns)}\")"
   ]
  },
  {
   "cell_type": "code",
   "execution_count": 33,
   "id": "c321c2bf",
   "metadata": {},
   "outputs": [
    {
     "name": "stdout",
     "output_type": "stream",
     "text": [
      "Content of the first label file: ['0', '0.746875', '0.69140625', '0.11015625', '0.0734375']\n",
      "Class ID is the first element in each line: 0\n"
     ]
    }
   ],
   "source": [
    "# Open the first label file for inspection\n",
    "first_label = os.path.join(labels_dir, label_fns[0])\n",
    "\n",
    "with open(first_label) as f:\n",
    "    lines = f.readlines()\n",
    "\n",
    "for line in lines:\n",
    "    content = line.strip().split()\n",
    "    print(f\"Content of the first label file: {content}\")\n",
    "    print(f\"Class ID is the first element in each line: {content[0]}\")"
   ]
  },
  {
   "cell_type": "code",
   "execution_count": 34,
   "id": "4a1cc584",
   "metadata": {},
   "outputs": [],
   "source": [
    "# Use shutil to move the images to their specified folders\n",
    "import shutil\n",
    "\n",
    "# Paths to image classes\n",
    "output_burn = \"Dataset/burn\"  # class 0\n",
    "output_rot  = \"Dataset/rot\"   # class 1\n",
    "output_spot = \"Dataset/spot\"  # class 2\n",
    "\n",
    "# Create output folders if they don't exist\n",
    "os.makedirs(output_burn, exist_ok=True)\n",
    "os.makedirs(output_rot, exist_ok=True)\n",
    "os.makedirs(output_spot, exist_ok=True)\n",
    "\n",
    "# Map class ID to output folder\n",
    "class_map = {\n",
    "    '0': output_burn,\n",
    "    '1': output_rot,\n",
    "    '2': output_spot,\n",
    "}"
   ]
  },
  {
   "cell_type": "code",
   "execution_count": 35,
   "id": "cdd1ecba",
   "metadata": {},
   "outputs": [],
   "source": [
    "# Store valid image-label pairs\n",
    "single_class_images = {\n",
    "    '0': [],\n",
    "    '1': [],\n",
    "    '2': [],\n",
    "}\n",
    "\n",
    "for label_fn in label_fns:\n",
    "    label_path = os.path.join(labels_dir, label_fn)\n",
    "\n",
    "    with open(label_path, 'r') as f:\n",
    "        lines = [line.strip() for line in f if line.strip()]\n",
    "\n",
    "    # Skip if file is empty\n",
    "    if not lines:\n",
    "        continue\n",
    "\n",
    "    # Get class IDs from all lines\n",
    "    class_ids = [line.split()[0] for line in lines]\n",
    "\n",
    "    # Check if all lines belong to the same class\n",
    "    if len(set(class_ids)) == 1:\n",
    "        class_id = class_ids[0]\n",
    "        if class_id in class_map:\n",
    "            image_name = os.path.splitext(label_fn)[0] + '.jpg'\n",
    "            image_path = os.path.join(imgs_dir, image_name)\n",
    "            if os.path.exists(image_path):\n",
    "                single_class_images[class_id].append((image_path, image_name))"
   ]
  },
  {
   "cell_type": "code",
   "execution_count": null,
   "id": "2cc3c1bb",
   "metadata": {},
   "outputs": [
    {
     "name": "stdout",
     "output_type": "stream",
     "text": [
      "0: Selected 100 images\n",
      "1: Selected 100 images\n",
      "2: Selected 100 images\n"
     ]
    }
   ],
   "source": [
    "# Limit to 100 images per class (manual cleaning could reduce them)\n",
    "limited_images = {}\n",
    "\n",
    "for class_id, entries in single_class_images.items():\n",
    "    limited_images[class_id] = entries[:100]  "
   ]
  },
  {
   "cell_type": "code",
   "execution_count": 37,
   "id": "1b3440ea",
   "metadata": {},
   "outputs": [],
   "source": [
    "# Copy selected images to respective folders\n",
    "for class_id, entries in limited_images.items():\n",
    "    dest_dir = class_map[class_id]\n",
    "    for img_path, img_name in entries:\n",
    "        dest_path = os.path.join(dest_dir, img_name)\n",
    "        shutil.copy(img_path, dest_path)"
   ]
  }
 ],
 "metadata": {
  "kernelspec": {
   "display_name": "gharsa",
   "language": "python",
   "name": "python3"
  },
  "language_info": {
   "codemirror_mode": {
    "name": "ipython",
    "version": 3
   },
   "file_extension": ".py",
   "mimetype": "text/x-python",
   "name": "python",
   "nbconvert_exporter": "python",
   "pygments_lexer": "ipython3",
   "version": "3.10.17"
  }
 },
 "nbformat": 4,
 "nbformat_minor": 5
}
